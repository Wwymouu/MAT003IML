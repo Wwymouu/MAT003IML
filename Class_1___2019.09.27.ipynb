{
 "cells": [
  {
   "cell_type": "markdown",
   "metadata": {},
   "source": [
    "# Class 1 - Programming with Python: basics"
   ]
  },
  {
   "cell_type": "markdown",
   "metadata": {},
   "source": [
    "## A few announcements"
   ]
  },
  {
   "cell_type": "markdown",
   "metadata": {},
   "source": [
    "+ **Website**. Always check the Institute of Mathematics webpage of the course ([here](https://www.math.uzh.ch/index.php?id=ve_vo_det&key1=14238&key2=3699&keySemId=39)). All important updates will be written there.\n",
    "+ **Mailing list**. We want to establish a _mailing list_ that will be used for urgent information about the course. If you are not a UZH student officially registered (e.g. you are from ETH and/or you're a ZGSM PhD student) send an email with your name at gabriele.visentin@math.uzh.ch asking to be added to the mailing list.\n",
    "+ **More (parallel) exercise classes**. The number of students attending the class is much higher than initially expected. We are going to establish additional, parallel exercise classes. We will soon communicate further details. Stay tuned.\n",
    "+ **Structure of the exercise classes**. The first two exercise classes (27.9.2019 and 4.10.2019) will be a brief introduction to programming with Python. Afterwards, each class with consist of three parts:\n",
    "    + A brief theoretical introduction of a model/topic in Machine Learning (blackboard/slides)\n",
    "    + The assistant codes! Real-time implementation of the code by the assistant on his/her laptop with projection on screen.\n",
    "    + You code! Real-time exercise session, in which students (organized in groups or alone, as they prefer) will be asked to implement on their laptops a code similar to the one presented by the assistant. The assistant will walk around the tables, helping out and answering questions.\n",
    "+ **Office hours**. Meetings with the assistants can always be fixed by email. \n",
    "    + Gabriele Visentin (Y27K04), gabriele.visentin@math.uzh.ch\n",
    "    + Marcel Fenzl (Y27K04), marcel.fenzl@math.uzh.ch\n",
    "+ **Questions?**"
   ]
  },
  {
   "cell_type": "markdown",
   "metadata": {},
   "source": [
    "## Tutorials available online"
   ]
  },
  {
   "cell_type": "markdown",
   "metadata": {},
   "source": [
    "Today we are going to see a brief overview of Python. \n",
    "\n",
    "**Attention!** This is not a programming class, but a machine learning class! \n",
    "\n",
    "If you are new to Python, you can still attend the course, but you are expected to learn how to program in Python during this course. The two exercise classes that we are going to have are not going to be enough: we suggest that you organize yourself in the next two weeks to work independently through a Python tutorial at home. \n",
    "\n",
    "There are many good, free tutorials online. Feel free to browse the web and choose the one you prefer.  \n",
    "Just two personal suggestions:\n",
    "+ If you have previous programming experience:\n",
    "    + [Python tutorial](https://docs.python.org/3/tutorial/index.html)\n",
    "    + [more suggestions](https://wiki.python.org/moin/BeginnersGuide/Programmers)\n",
    "+ If you are new to programming (i.e. never programmed before):\n",
    "    + [Python tutorial](https://www.python-course.eu/python3_course.php)\n",
    "    + [more suggestions](https://wiki.python.org/moin/BeginnersGuide/NonProgrammers)\n",
    "\n",
    "**Attention!** We are going to use Python 3 (the current version should be 3.7.4) and **not** Python 2. Make sure you choose a tutorial for Python 3.\n",
    "\n",
    "**Attention!** If you have to install Python from scratch, we recommend that you download the [Anaconda distribution](https://www.anaconda.com/distribution/). \n",
    "\n",
    "Broadly speaking, Anaconda is a repository of Python packages and Python-related (and R-related) software, that is ideally suited for data science and machine learning. It is well-documented and compatible with the major Operating Systems. Through Anaconda you can use Python, all packages we are going to need, and Jupyter (to be able to create/edit interactive notebooks like this one from home!)."
   ]
  },
  {
   "cell_type": "markdown",
   "metadata": {},
   "source": [
    "## Programming with Python: basics"
   ]
  },
  {
   "cell_type": "markdown",
   "metadata": {},
   "source": [
    "### The Python interpreter"
   ]
  },
  {
   "cell_type": "markdown",
   "metadata": {},
   "source": [
    "Like other programming languages, Python has an interactive interpreter that executes code. In this notebook, for didactic purposes, the code can be written in input cells, can be executed, and the output is displayed in an output cell (see below). On a typical laptop installation of Python, the interpreter can be invoked via command line."
   ]
  },
  {
   "cell_type": "code",
   "execution_count": null,
   "metadata": {
    "scrolled": true
   },
   "outputs": [],
   "source": [
    "2 + 2"
   ]
  },
  {
   "cell_type": "code",
   "execution_count": null,
   "metadata": {},
   "outputs": [],
   "source": [
    "6 * 3"
   ]
  },
  {
   "cell_type": "code",
   "execution_count": null,
   "metadata": {
    "scrolled": true
   },
   "outputs": [],
   "source": [
    "29 % 5 # modulo operation"
   ]
  },
  {
   "cell_type": "markdown",
   "metadata": {},
   "source": [
    "The text \"# modulo operation\" is a comment, i.e. a piece of text that can be inserted in the code and is used to explain the code to human readers. All comments must be introduced by the symbol \"#\", which tells the interpreter to ignore the following text."
   ]
  },
  {
   "cell_type": "code",
   "execution_count": null,
   "metadata": {},
   "outputs": [],
   "source": [
    "2 ** 3 # exponentiation"
   ]
  },
  {
   "cell_type": "markdown",
   "metadata": {},
   "source": [
    "### Variables and data types"
   ]
  },
  {
   "cell_type": "markdown",
   "metadata": {},
   "source": [
    "Python is much more than just a calculator! It can also store values in memory. This is done by declaring variables:"
   ]
  },
  {
   "cell_type": "code",
   "execution_count": null,
   "metadata": {},
   "outputs": [],
   "source": [
    "width = 12\n",
    "height = 15\n",
    "width * height"
   ]
  },
  {
   "cell_type": "markdown",
   "metadata": {},
   "source": [
    "Variables can store data of many different types, not just numbers! Below is a variable storing a string (of characters). Notice that the string has to be enclosed in (single) quotes.\n",
    "\n",
    "**Attention!** Notice that the declaration of a variable must not be followed by any punctuation mark, unlike C++ or other language you may have studied before."
   ]
  },
  {
   "cell_type": "code",
   "execution_count": null,
   "metadata": {},
   "outputs": [],
   "source": [
    "greeting = 'hello!'"
   ]
  },
  {
   "cell_type": "code",
   "execution_count": null,
   "metadata": {},
   "outputs": [],
   "source": [
    "print(greeting)"
   ]
  },
  {
   "cell_type": "markdown",
   "metadata": {},
   "source": [
    "One can perform a lot of operations on strings and even access individual characters."
   ]
  },
  {
   "cell_type": "code",
   "execution_count": null,
   "metadata": {},
   "outputs": [],
   "source": [
    "5 * greeting + 'helloooooo!'"
   ]
  },
  {
   "cell_type": "code",
   "execution_count": null,
   "metadata": {},
   "outputs": [],
   "source": [
    "len(greeting)"
   ]
  },
  {
   "cell_type": "code",
   "execution_count": null,
   "metadata": {
    "scrolled": true
   },
   "outputs": [],
   "source": [
    "greeting[0]"
   ]
  },
  {
   "cell_type": "markdown",
   "metadata": {},
   "source": [
    "**Attention!** The individual characters are indexed in such a way that **the first character has index 0** and the last one has index -1."
   ]
  },
  {
   "cell_type": "markdown",
   "metadata": {},
   "source": [
    "One can also _slice_ a string, i.e. extract a particular substring, for example from the 0th to the 3rd character (excluded): "
   ]
  },
  {
   "cell_type": "code",
   "execution_count": null,
   "metadata": {},
   "outputs": [],
   "source": [
    "substring = greeting[0:3]\n",
    "substring"
   ]
  },
  {
   "cell_type": "markdown",
   "metadata": {},
   "source": [
    "**Attention!** Slicing can be tricky for beginners. Remember: the starting index is always included and the ending index is always excluded from the slice."
   ]
  },
  {
   "cell_type": "markdown",
   "metadata": {},
   "source": [
    "Another interesting data type is that of logical variables. Logical variables can be in only two states, either True or False."
   ]
  },
  {
   "cell_type": "code",
   "execution_count": null,
   "metadata": {
    "scrolled": true
   },
   "outputs": [],
   "source": [
    "logical_var = (1 == 2)\n",
    "logical_var"
   ]
  },
  {
   "cell_type": "code",
   "execution_count": null,
   "metadata": {},
   "outputs": [],
   "source": [
    "logical_var = (greeting == 'hello!')\n",
    "logical_var"
   ]
  },
  {
   "cell_type": "markdown",
   "metadata": {},
   "source": [
    "### Lists and tuples"
   ]
  },
  {
   "cell_type": "markdown",
   "metadata": {},
   "source": [
    "If you want to put together different variables in a unique variable, you can use a list."
   ]
  },
  {
   "cell_type": "code",
   "execution_count": null,
   "metadata": {},
   "outputs": [],
   "source": [
    "my_list = [2, 3, 5, width, height]"
   ]
  },
  {
   "cell_type": "markdown",
   "metadata": {},
   "source": [
    "Lists are indexed and can be sliced exactly as we did with strings."
   ]
  },
  {
   "cell_type": "code",
   "execution_count": null,
   "metadata": {
    "scrolled": true
   },
   "outputs": [],
   "source": [
    "my_list[3]"
   ]
  },
  {
   "cell_type": "code",
   "execution_count": null,
   "metadata": {
    "scrolled": true
   },
   "outputs": [],
   "source": [
    "my_list[0:2]"
   ]
  },
  {
   "cell_type": "code",
   "execution_count": null,
   "metadata": {},
   "outputs": [],
   "source": [
    "my_list[0:1:2]"
   ]
  },
  {
   "cell_type": "code",
   "execution_count": null,
   "metadata": {
    "scrolled": true
   },
   "outputs": [],
   "source": [
    "len(my_list)"
   ]
  },
  {
   "cell_type": "code",
   "execution_count": null,
   "metadata": {},
   "outputs": [],
   "source": [
    "my_new_list = [my_list, 3, 4]\n",
    "my_new_list"
   ]
  },
  {
   "cell_type": "markdown",
   "metadata": {},
   "source": [
    "There are several methods for lists."
   ]
  },
  {
   "cell_type": "code",
   "execution_count": null,
   "metadata": {},
   "outputs": [],
   "source": [
    "my_new_list.append('new item')\n",
    "my_new_list"
   ]
  },
  {
   "cell_type": "code",
   "execution_count": null,
   "metadata": {},
   "outputs": [],
   "source": [
    "my_new_list.index(4)"
   ]
  },
  {
   "cell_type": "markdown",
   "metadata": {},
   "source": [
    "Lists have an enormous advantage over strings: the internal values of a list can be modified."
   ]
  },
  {
   "cell_type": "code",
   "execution_count": null,
   "metadata": {
    "scrolled": true
   },
   "outputs": [],
   "source": [
    "my_list[0] = 890\n",
    "my_list"
   ]
  },
  {
   "cell_type": "code",
   "execution_count": null,
   "metadata": {},
   "outputs": [],
   "source": [
    "a = 'ciao'\n",
    "a[0] = 'b'"
   ]
  },
  {
   "cell_type": "markdown",
   "metadata": {},
   "source": [
    "Lists can be used to store variables of different types, but in practice programmers prefer to use lists to store variables of the same type, while using tuples to store variables of different types. Below is an example of a tuple:"
   ]
  },
  {
   "cell_type": "code",
   "execution_count": null,
   "metadata": {},
   "outputs": [],
   "source": [
    "a = (height, greeting)"
   ]
  },
  {
   "cell_type": "code",
   "execution_count": null,
   "metadata": {},
   "outputs": [],
   "source": [
    "a[1]"
   ]
  },
  {
   "cell_type": "markdown",
   "metadata": {},
   "source": [
    "Unlike lists, the internal values of tuples cannot be modified."
   ]
  },
  {
   "cell_type": "markdown",
   "metadata": {},
   "source": [
    "### Flow control statements"
   ]
  },
  {
   "cell_type": "markdown",
   "metadata": {},
   "source": [
    "Flow control statements are particular commands that allow us to perform basic, (usually repetitive) operations on data. Every programming language has the basic flow control statements: if, for, while. "
   ]
  },
  {
   "cell_type": "code",
   "execution_count": null,
   "metadata": {},
   "outputs": [],
   "source": [
    "input_from_user = 'cat'\n",
    "password = 'dog'\n",
    "\n",
    "if input_from_user == password:\n",
    "    print('Access granted!')\n",
    "else: \n",
    "    print('Intruder! Intruder!')"
   ]
  },
  {
   "cell_type": "markdown",
   "metadata": {},
   "source": [
    "The \"if\" statement evaluates the logical expression \"input_from_user == password\", and executes the code below \"if:\" if the expression is True, while it executes the code below \"else:\" if the expression is False."
   ]
  },
  {
   "cell_type": "code",
   "execution_count": null,
   "metadata": {},
   "outputs": [],
   "source": [
    "input_from_user = 'cat'\n",
    "password = 'dog'\n",
    "\n",
    "if input_from_user == password:\n",
    "    print('Access granted!')\n",
    "elif input_from_user == 'cat':\n",
    "    print('Try again!')\n",
    "else: \n",
    "    print('Intruder! Intruder!')"
   ]
  },
  {
   "cell_type": "code",
   "execution_count": null,
   "metadata": {
    "scrolled": false
   },
   "outputs": [],
   "source": [
    "for i in range(10):\n",
    "    print(i)"
   ]
  },
  {
   "cell_type": "markdown",
   "metadata": {},
   "source": [
    "Loops can iterate over any kind of list."
   ]
  },
  {
   "cell_type": "code",
   "execution_count": null,
   "metadata": {},
   "outputs": [],
   "source": [
    "words = ['machine', 'learning', 'python', 'programming']\n",
    "\n",
    "for word in words:\n",
    "    print(word)"
   ]
  },
  {
   "cell_type": "code",
   "execution_count": null,
   "metadata": {},
   "outputs": [],
   "source": [
    "words = ['machine', 'learning', 'python', 'programming']\n",
    "\n",
    "for word in words:\n",
    "    if len(word) <= 6:\n",
    "        print(word)\n",
    "    else:\n",
    "        print('Word is too long!')"
   ]
  },
  {
   "cell_type": "markdown",
   "metadata": {},
   "source": [
    "With the keywords *continue* and *break* you can change the flow of a loop."
   ]
  },
  {
   "cell_type": "code",
   "execution_count": null,
   "metadata": {},
   "outputs": [],
   "source": [
    "for i in range(10):\n",
    "    if i%2 == 1:\n",
    "        continue\n",
    "    print(i)"
   ]
  },
  {
   "cell_type": "code",
   "execution_count": null,
   "metadata": {},
   "outputs": [],
   "source": [
    "for j in range(5):\n",
    "    for i in range(10):\n",
    "        if i%2 == 1:\n",
    "            break\n",
    "        print(i)\n",
    "    print(j)"
   ]
  },
  {
   "cell_type": "code",
   "execution_count": null,
   "metadata": {},
   "outputs": [],
   "source": [
    "\n",
    "i = 0\n",
    "\n",
    "while i < 10:\n",
    "    i = i + 1\n",
    "    print(i)"
   ]
  },
  {
   "cell_type": "code",
   "execution_count": null,
   "metadata": {},
   "outputs": [],
   "source": [
    "a = 0\n",
    "b = 1\n",
    "\n",
    "# Fibonacci sequence\n",
    "\n",
    "while b < 20:\n",
    "    print(b)\n",
    "    a, b = b, a + b"
   ]
  },
  {
   "cell_type": "markdown",
   "metadata": {},
   "source": [
    "### Functions"
   ]
  },
  {
   "cell_type": "markdown",
   "metadata": {},
   "source": [
    "Sometimes we want to perform operations that are substantially more complex than these simple flow control statements. In order to do this, we need to be able to define functions."
   ]
  },
  {
   "cell_type": "code",
   "execution_count": null,
   "metadata": {
    "scrolled": false
   },
   "outputs": [],
   "source": [
    "# Let's write a function that computes all Fibonacci \n",
    "# numbers smaller than n\n",
    "\n",
    "def fib(n):\n",
    "    a, b = 0, 1\n",
    "    while b < n:\n",
    "        print(b)\n",
    "        a, b = b, a + b\n",
    "\n",
    "# Let's now call the function with the argument n=1\n",
    "\n",
    "fib(10)"
   ]
  },
  {
   "cell_type": "markdown",
   "metadata": {},
   "source": [
    "Most of the times we don't want a function to print on the screen, but simply to return the value of its computations. To do this, we must use the command \"return\"."
   ]
  },
  {
   "cell_type": "code",
   "execution_count": null,
   "metadata": {},
   "outputs": [],
   "source": [
    "def fib(n):\n",
    "    a, b = 0, 1\n",
    "    sequence = []\n",
    "    while b < n:\n",
    "        sequence.append(b)\n",
    "        a, b = b, a + b\n",
    "    return sequence\n",
    "\n",
    "a = fib(10)"
   ]
  },
  {
   "cell_type": "markdown",
   "metadata": {},
   "source": [
    "Arguments used to call functions can be optional."
   ]
  },
  {
   "cell_type": "code",
   "execution_count": null,
   "metadata": {},
   "outputs": [],
   "source": [
    "def ask_ok(prompt, retries=4, reminder='Please try again!'):\n",
    "    while True:\n",
    "        ok = input(prompt)\n",
    "        if ok in ('y', 'ye', 'yes'):\n",
    "            return True\n",
    "        if ok in ('n', 'no', 'nop', 'nope'):\n",
    "            return False\n",
    "        retries = retries - 1\n",
    "        if retries < 0:\n",
    "            print('Answer yes or no!')\n",
    "        print(reminder)\n",
    "\n",
    "ask_ok('Are you ok?', retries=6)"
   ]
  },
  {
   "cell_type": "markdown",
   "metadata": {},
   "source": [
    "### Scripts and packages"
   ]
  },
  {
   "cell_type": "markdown",
   "metadata": {},
   "source": [
    "Typically nobody uses the interpreter at the command line, because as soon as the interpret is closed, all the variables and functions stored in memory are lost. Here on this notebook we are using it because it allows us to execute small pieces of code rapidly and interactively, but for bigger projects it is not recommended.\n",
    "\n",
    "Usually software is written in bigger files that are then executed by the interpreter: these files with code in them are called scripts and typically contain many functions and commands. \n",
    "\n",
    "When opened using a text editor scripts are simply text files, but typically have particular format endings to let the interpreter recognize them. Python scripts can be recognized because they have the \".py\" format.\n",
    "\n",
    "Scripts can be edited using any text editor, but programmers prefer to have specialized software (with, for example, automatic closing of parentheses, or automatic syntax highlighting). If you're interested in trying out such a programming text editor, I suggest [Atom](https://atom.io/)."
   ]
  },
  {
   "cell_type": "markdown",
   "metadata": {},
   "source": [
    "Very often one ends up using always the same scripts, because perhaps they have very useful functions in them. Instead of copy-pasting functions and commands from script to script, it is easier to store these scripts in packages (or modules). These packages (or modules) can then be imported into any other script via a simple command."
   ]
  },
  {
   "cell_type": "code",
   "execution_count": null,
   "metadata": {},
   "outputs": [],
   "source": [
    "import numpy  # import all functions in the package \"numpy\"\n",
    "\n",
    "numpy.exp(23) # call the function exp from the numpy package"
   ]
  },
  {
   "cell_type": "markdown",
   "metadata": {},
   "source": [
    "In the next lecture we will see some packages that are going to be very useful for us in Machine Learning:\n",
    "+ **NumPy**: functions for basic mathematics, specifically useful for linear algebra\n",
    "+ **Matplotlib**: functions for visualization of data via charts\n",
    "+ **Scikit-learn**: functions for implementation of Machine Learning models\n",
    "\n",
    "We will discuss some of the functions in these packages and how to use them."
   ]
  },
  {
   "cell_type": "markdown",
   "metadata": {},
   "source": [
    "## Curious about this interactive notebook? All about Jupyter Notebooks"
   ]
  },
  {
   "cell_type": "markdown",
   "metadata": {},
   "source": [
    "A Jupyter Notebook is the kind of interactive document we are working on right now. It can be used to create documents (with format \".ipynb\", from \"IPython notebook\"), in which normal text and code can be written and executed side by side.\n",
    "\n",
    "Jupyter Notebooks can be shared among people and can be seen and edited online without having to install any software, through the [JupyterLab website](https://jupyter.org/try).\n",
    "\n",
    "If you want to know more about Jupyter, you can explore the following links:\n",
    "\n",
    "Quick links:\n",
    "+ [JupyterLab website](https://jupyter.org/try)\n",
    "+ [Jupyter Notebook official documentation](https://jupyter-notebook.readthedocs.io/en/stable/)\n",
    "+ [Jupyter Notebook markup language documentation](https://daringfireball.net/projects/markdown/)"
   ]
  }
 ],
 "metadata": {
  "kernelspec": {
   "display_name": "Python 3",
   "language": "python",
   "name": "python3"
  },
  "language_info": {
   "codemirror_mode": {
    "name": "ipython",
    "version": 3
   },
   "file_extension": ".py",
   "mimetype": "text/x-python",
   "name": "python",
   "nbconvert_exporter": "python",
   "pygments_lexer": "ipython3",
   "version": "3.7.3"
  }
 },
 "nbformat": 4,
 "nbformat_minor": 2
}
