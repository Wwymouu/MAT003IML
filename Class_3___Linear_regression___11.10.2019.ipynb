{
 "cells": [
  {
   "cell_type": "markdown",
   "metadata": {},
   "source": [
    "# Class 3 - Linear regression"
   ]
  },
  {
   "cell_type": "markdown",
   "metadata": {},
   "source": [
    "## Linear regression: the model"
   ]
  },
  {
   "cell_type": "markdown",
   "metadata": {},
   "source": [
    "Linear models are widely used and form the foundation of many advanced non-linear techniques such as support vector machines and neural networks. You propably have seen an image depicting linear regression already:"
   ]
  },
  {
   "cell_type": "code",
   "execution_count": 1,
   "metadata": {},
   "outputs": [],
   "source": [
    "import numpy as np\n",
    "import matplotlib.pyplot as plt\n",
    "from sklearn import datasets, model_selection, linear_model, metrics"
   ]
  },
  {
   "cell_type": "code",
   "execution_count": 2,
   "metadata": {},
   "outputs": [
    {
     "data": {
      "image/png": "[encoded data removed]",
      "text/plain": [
       "<Figure size 432x288 with 1 Axes>"
      ]
     },
     "metadata": {
      "needs_background": "light"
     },
     "output_type": "display_data"
    }
   ],
   "source": [
    "n = 30\n",
    "beta = 3\n",
    "\n",
    "x = 4*np.random.random(n)\n",
    "eps = 2*np.random.random(n)-1\n",
    "y = x*beta + eps\n",
    "\n",
    "plt.plot(x,y,'ob',[0,4],[0,4*beta],'r')\n",
    "plt.show()"
   ]
  },
  {
   "cell_type": "markdown",
   "metadata": {},
   "source": [
    "Consider $\\mathcal{X} = ℝ^d$ and $\\mathcal{Y} = ℝ$. For linear regression, we assume that the data are of the form $$y \\approx \\sum_{j=1}^d β_j x^{(j)} + β_0.$$ Hence, we choose the hypothesis as the class of affine functions: $$\\{x\\mapsto \\langleβ,x\\rangle + β_0 \\;\\vert\\; β_0,…,β_d ∈ℝ\\}.$$\n",
    "\n",
    "Usually, it is more convenient to incorporate the bias $β_0$ into the variables $β$ as well. To do so, denote $x_0 = 1$ and consider instead $\\mathcal{X} = ℝ^{d+1}$ with $x = (1,x^{(1)},…,x^{(d)})$. We will do so explicitly later on and hence will work with the hypothesis class of linear functions instead:\n",
    "$$\\mathcal{F} = \\{x\\mapsto \\langleβ,x\\rangle \\;\\vert\\; β∈ℝ^{d+1}\\}$$\n",
    "\n",
    "Which loss function should we choose? It is common to consider one of the following two:\n",
    "- squared error (OLS) $L(y,y') = (y - y')^2$\n",
    "- absolute value loss function $L(y,y') = |y−y'|$\n",
    "\n",
    "where $y$ is the true label and $y'$ is our prediction of it.\n",
    "\n",
    "**Attention!** When choosing an error function, it is generally a good idea to stick with a few, usual, well-known choices. These two are most commonly used because of a lot of reasons coming from statistics (e.g. sparsity) and/or optimization (e.g. convexity).\n",
    "\n",
    "Denote $X = (x_i^{(j)})_{i,j}$ the matrix with rows given by $x_1,…,x_n$. Then, we end up with the following problem: Find $\\operatorname{argmin}_{h∈\\mathcal{F}} \\hat{R}(h)$ or more explicitely\n",
    "* $\\operatorname{argmin}\\{ \\frac{1}{n} \\sum_{i=1}^n (y_i − \\langleβ,x_i\\rangle)^2 \\;\\vert\\; β∈ℝ^d\\} = \\operatorname{argmin}\\frac{1}{n} \\|Xβ−y\\|_2^2$, resp.\n",
    "* $\\operatorname{argmin}\\{ \\frac{1}{n} \\sum_{i=1}^n |y_i − \\langleβ,x_i\\rangle| \\;\\vert\\; β∈ℝ^d\\} = \\operatorname{argmin}\\frac{1}{n} \\|Xβ−y\\|_1$\n",
    "\n",
    "Advantages:\n",
    "- Easy to understand model\n",
    "- Scale well on large datasets\n",
    "- Work well with sparse data\n",
    "- Quite stable for small changes in the input data\n",
    "- Rarely overfits (low variance)\n",
    "\n",
    "\n",
    "Disadvantages:\n",
    "- Linear model might not be realistic\n",
    "- Tendency to underfit (high bias)\n",
    "- Cannot treat well strongly correlated features e.g. $x_1 = −x_2$"
   ]
  },
  {
   "cell_type": "markdown",
   "metadata": {
    "slideshow": {
     "slide_type": "-"
    }
   },
   "source": [
    "## Linear regression: the algorithm (from scratch)"
   ]
  },
  {
   "cell_type": "markdown",
   "metadata": {},
   "source": [
    "We will present the algorithms on the Boston house price data set from scikit-learn. Throughout the whole part we will use the squared error."
   ]
  },
  {
   "cell_type": "code",
   "execution_count": 3,
   "metadata": {},
   "outputs": [
    {
     "name": "stdout",
     "output_type": "stream",
     "text": [
      ".. _boston_dataset:\n",
      "\n",
      "Boston house prices dataset\n",
      "---------------------------\n",
      "\n",
      "**Data Set Characteristics:**  \n",
      "\n",
      "    :Number of Instances: 506 \n",
      "\n",
      "    :Number of Attributes: 13 numeric/categorical predictive. Median Value (attribute 14) is usually the target.\n",
      "\n",
      "    :Attribute Information (in order):\n",
      "        - CRIM     per capita crime rate by town\n",
      "        - ZN       proportion of residential land zoned for lots over 25,000 sq.ft.\n",
      "        - INDUS    proportion of non-retail business acres per town\n",
      "        - CHAS     Charles River dummy variable (= 1 if tract bounds river; 0 otherwise)\n",
      "        - NOX      nitric oxides concentration (parts per 10 million)\n",
      "        - RM       average number of rooms per dwelling\n",
      "        - AGE      proportion of owner-occupied units built prior to 1940\n",
      "        - DIS      weighted distances to five Boston employment centres\n",
      "        - RAD      index of accessibility to radial highways\n",
      "        - TAX      full-value property-tax rate per $10,000\n",
      "        - PTRATIO  pupil-teacher ratio by town\n",
      "        - B        1000(Bk - 0.63)^2 where Bk is the proportion of blacks by town\n",
      "        - LSTAT    % lower status of the population\n",
      "        - MEDV     Median value of owner-occupied homes in $1000's\n",
      "\n",
      "    :Missing Attribute Values: None\n",
      "\n",
      "    :Creator: Harrison, D. and Rubinfeld, D.L.\n",
      "\n",
      "This is a copy of UCI ML housing dataset.\n",
      "https://archive.ics.uci.edu/ml/machine-learning-databases/housing/\n",
      "\n",
      "\n",
      "This dataset was taken from the StatLib library which is maintained at Carnegie Mellon University.\n",
      "\n",
      "The Boston house-price data of Harrison, D. and Rubinfeld, D.L. 'Hedonic\n",
      "prices and the demand for clean air', J. Environ. Economics & Management,\n",
      "vol.5, 81-102, 1978.   Used in Belsley, Kuh & Welsch, 'Regression diagnostics\n",
      "...', Wiley, 1980.   N.B. Various transformations are used in the table on\n",
      "pages 244-261 of the latter.\n",
      "\n",
      "The Boston house-price data has been used in many machine learning papers that address regression\n",
      "problems.   \n",
      "     \n",
      ".. topic:: References\n",
      "\n",
      "   - Belsley, Kuh & Welsch, 'Regression diagnostics: Identifying Influential Data and Sources of Collinearity', Wiley, 1980. 244-261.\n",
      "   - Quinlan,R. (1993). Combining Instance-Based and Model-Based Learning. In Proceedings on the Tenth International Conference of Machine Learning, 236-243, University of Massachusetts, Amherst. Morgan Kaufmann.\n",
      "\n"
     ]
    }
   ],
   "source": [
    "boston = datasets.load_boston()\n",
    "\n",
    "print(boston.DESCR)"
   ]
  },
  {
   "cell_type": "code",
   "execution_count": 4,
   "metadata": {},
   "outputs": [
    {
     "name": "stdout",
     "output_type": "stream",
     "text": [
      "(506, 13)\n",
      "(506,)\n"
     ]
    }
   ],
   "source": [
    "print(boston.data.shape)\n",
    "print(boston.target.shape)"
   ]
  },
  {
   "cell_type": "code",
   "execution_count": 5,
   "metadata": {},
   "outputs": [
    {
     "name": "stdout",
     "output_type": "stream",
     "text": [
      "(506, 13)\n",
      "(506, 1)\n"
     ]
    }
   ],
   "source": [
    "x, y = boston.data, boston.target\n",
    "y = y.reshape((y.shape[0], 1))\n",
    "\n",
    "print(x.shape)\n",
    "print(y.shape)"
   ]
  },
  {
   "cell_type": "markdown",
   "metadata": {},
   "source": [
    "### Data preprocessing"
   ]
  },
  {
   "cell_type": "markdown",
   "metadata": {},
   "source": [
    "In general it is a bad idea to immediately start training your machine learning algorithm: we first need to __preprocess__ the data."
   ]
  },
  {
   "cell_type": "markdown",
   "metadata": {},
   "source": [
    "#### Shuffling"
   ]
  },
  {
   "cell_type": "markdown",
   "metadata": {},
   "source": [
    "Usually, datapoints in a sample are not realizations of a perfectly i.i.d. sequence of random variables. Instead, the sample might be generated in such a way that the datapoints have some degree of time dependence without us noticing, or they might be correlated in some other way among each other. \n",
    "\n",
    "Moreover, some algorithms may depend on the order of the datapoints in the sample.\n",
    "\n",
    "In order to reduce these efffects as much as possible,it is always a good idea to shuffle the datapoints before usage."
   ]
  },
  {
   "cell_type": "code",
   "execution_count": 6,
   "metadata": {},
   "outputs": [
    {
     "name": "stdout",
     "output_type": "stream",
     "text": [
      "[[6.3200e-03 1.8000e+01 2.3100e+00 ... 1.5300e+01 3.9690e+02 4.9800e+00]\n",
      " [2.7310e-02 0.0000e+00 7.0700e+00 ... 1.7800e+01 3.9690e+02 9.1400e+00]\n",
      " [2.7290e-02 0.0000e+00 7.0700e+00 ... 1.7800e+01 3.9283e+02 4.0300e+00]\n",
      " ...\n",
      " [6.0760e-02 0.0000e+00 1.1930e+01 ... 2.1000e+01 3.9690e+02 5.6400e+00]\n",
      " [1.0959e-01 0.0000e+00 1.1930e+01 ... 2.1000e+01 3.9345e+02 6.4800e+00]\n",
      " [4.7410e-02 0.0000e+00 1.1930e+01 ... 2.1000e+01 3.9690e+02 7.8800e+00]]\n"
     ]
    }
   ],
   "source": [
    "print(x)"
   ]
  },
  {
   "cell_type": "code",
   "execution_count": 7,
   "metadata": {},
   "outputs": [],
   "source": [
    "np.random.seed(seed=1500)\n",
    "\n",
    "def shuffle(x, y):\n",
    "    z = np.hstack((x, y))\n",
    "    np.random.shuffle(z)\n",
    "    return np.hsplit(z, [x.shape[1]])\n",
    "\n",
    "x, y = shuffle(x, y)"
   ]
  },
  {
   "cell_type": "code",
   "execution_count": 8,
   "metadata": {},
   "outputs": [
    {
     "name": "stdout",
     "output_type": "stream",
     "text": [
      "[[4.29400e-02 2.80000e+01 1.50400e+01 ... 1.82000e+01 3.96900e+02\n",
      "  1.05900e+01]\n",
      " [9.32909e+00 0.00000e+00 1.81000e+01 ... 2.02000e+01 3.96900e+02\n",
      "  1.81300e+01]\n",
      " [2.89600e-01 0.00000e+00 9.69000e+00 ... 1.92000e+01 3.96900e+02\n",
      "  2.11400e+01]\n",
      " ...\n",
      " [2.18700e-02 6.00000e+01 2.93000e+00 ... 1.56000e+01 3.93370e+02\n",
      "  5.03000e+00]\n",
      " [5.02300e-02 3.50000e+01 6.06000e+00 ... 1.69000e+01 3.94020e+02\n",
      "  1.24300e+01]\n",
      " [9.60400e-02 4.00000e+01 6.41000e+00 ... 1.76000e+01 3.96900e+02\n",
      "  2.98000e+00]]\n"
     ]
    }
   ],
   "source": [
    "print(x)"
   ]
  },
  {
   "cell_type": "markdown",
   "metadata": {},
   "source": [
    "#### Train and test splitting"
   ]
  },
  {
   "cell_type": "markdown",
   "metadata": {},
   "source": [
    "To obtain a result of how good our model will be we cannot plainly use the empirical error obtained on the training dataset. This error is biased as we trained the model in such a way as to minimize it!\n",
    "\n",
    "Instead, one typically would like to compute the empirical error on new, previously unseen data to obtain a better estimate of how good the model describes reality. These \"new, previously unseen\" data must be set aside from the beginning and separated from the training dataset into a test dataset.\n",
    "\n",
    "The test dataset will not be used for training and we will use it only at end, in order to come up with an estimate of how good our model is.\n",
    "\n",
    "The process of evaluating the prediction error of our model using the empirical error on the test dataset is called testing. As a rule of thumb around 20% of your total data should be hold back for testing in the end."
   ]
  },
  {
   "cell_type": "code",
   "execution_count": 9,
   "metadata": {},
   "outputs": [],
   "source": [
    "def splitting(x, y, test_size=0.2):\n",
    "    n = x.shape[0]\n",
    "    train_size = int(n * (1 - test_size))\n",
    "    return x[:train_size, ], x[train_size:, ], y[:train_size, ], y[train_size:, ]\n",
    "\n",
    "x_train, x_test, y_train, y_test = splitting(x, y)"
   ]
  },
  {
   "cell_type": "code",
   "execution_count": 10,
   "metadata": {
    "scrolled": true
   },
   "outputs": [
    {
     "name": "stdout",
     "output_type": "stream",
     "text": [
      "x_train:  (404, 13)\n",
      "y_train:  (404, 1)\n",
      "x_test:  (102, 13)\n",
      "y_test:  (102, 1)\n"
     ]
    }
   ],
   "source": [
    "print(\"x_train: \", x_train.shape)\n",
    "print(\"y_train: \", y_train.shape)\n",
    "print(\"x_test: \", x_test.shape)\n",
    "print(\"y_test: \", y_test.shape)"
   ]
  },
  {
   "cell_type": "markdown",
   "metadata": {},
   "source": [
    "#### Passage from affine functions to linear ones"
   ]
  },
  {
   "cell_type": "markdown",
   "metadata": {},
   "source": [
    "Usually, it is more convenient to incorporate the bias $β_0$ into the variables $β$ as well. To do so, denote $x_0 = 1$ and consider instead $\\mathcal{X} = ℝ^{d+1}$ with: $$x = (1,x^{(1)},…,x^{(d)}).$$ We will do so explicitly later on and hence will work with the hypothesis class of linear functions instead:\n",
    "$$\\mathcal{F} = \\{x\\mapsto \\langleβ,x\\rangle \\;\\vert\\; β∈ℝ^{d+1}\\}$$\n"
   ]
  },
  {
   "cell_type": "code",
   "execution_count": 11,
   "metadata": {},
   "outputs": [
    {
     "name": "stdout",
     "output_type": "stream",
     "text": [
      "(404, 14)\n",
      "(102, 14)\n"
     ]
    }
   ],
   "source": [
    "x_train = np.hstack((np.ones((x_train.shape[0],1)), x_train))\n",
    "x_test = np.hstack((np.ones((x_test.shape[0],1)), x_test))\n",
    "\n",
    "print(x_train.shape)\n",
    "print(x_test.shape)"
   ]
  },
  {
   "cell_type": "markdown",
   "metadata": {},
   "source": [
    "#### Interlude: normalization"
   ]
  },
  {
   "cell_type": "markdown",
   "metadata": {},
   "source": [
    "Sometimes there is a need to normalize all features in order for them to live on the same scale. This procedure is called feature scaling or normalization. \n",
    "\n",
    "In the special case of linear regression this is usually not needed, even though some implementations of linear regression might still profit from data being not too large. There are algorithms that cannot be run without normalization, therefore it's important to understand this data preprocessing technique.\n",
    "\n",
    "Normalization means that we center and rescale all our datapoints, so that they have zero (sample) mean and unit (sample) variance. In the case of multi-dimensional features, the normalization is done component-wise:\n",
    "\n",
    "$$x_{new}^{(j)} = \\frac{x_{old}^{(j)}−x_{mean}^{(j)}}{x_{std}^{(j)}},$$\n",
    "\n",
    "while for labels the whole vector is normalized:\n",
    "\n",
    "$$y_{new} = \\frac{y_{old} − y_{mean}}{y_{std}}.$$\n",
    "\n",
    "**Attention!** If you decide to normalize, remember to normalize only your training dataset! Otherwise you will partially contaminate the test dataset by incorporating (some) information about its sample mean and variance.\n",
    "\n",
    "**Attention!** When you need to output your predictions (on the test dataset or outside of it) make sure that you reverse the normalization operation. Your model has learnt to predict from normalized input!"
   ]
  },
  {
   "cell_type": "markdown",
   "metadata": {},
   "source": [
    "We will not implement normalization today, but the commented code below can be used to normalize a **training dataset**."
   ]
  },
  {
   "cell_type": "code",
   "execution_count": 12,
   "metadata": {
    "scrolled": true
   },
   "outputs": [
    {
     "name": "stderr",
     "output_type": "stream",
     "text": [
      "//anaconda3/lib/python3.7/site-packages/ipykernel_launcher.py:4: RuntimeWarning: invalid value encountered in true_divide\n",
      "  after removing the cwd from sys.path.\n"
     ]
    }
   ],
   "source": [
    "# x_mean = np.mean(x_train, axis=0)\n",
    "# x_std = np.std(x_train, axis=0)\n",
    "\n",
    "# x_train = (x_train - x_mean)/x_std"
   ]
  },
  {
   "cell_type": "code",
   "execution_count": 13,
   "metadata": {
    "scrolled": true
   },
   "outputs": [
    {
     "name": "stdout",
     "output_type": "stream",
     "text": [
      "[            nan  8.24423038e-17  7.33736504e-17  1.79944068e-15\n",
      " -1.37129032e-16 -2.83106871e-15  1.50604914e-15 -9.90956492e-16\n",
      "  3.77379646e-16 -6.56790354e-17  5.77096127e-17  2.16368452e-14\n",
      "  9.78782512e-15 -6.42775162e-16]\n",
      "[nan  1.  1.  1.  1.  1.  1.  1.  1.  1.  1.  1.  1.  1.]\n"
     ]
    }
   ],
   "source": [
    "# Check that all coordinates of the data matrix X have mean zero and variance one\n",
    "\n",
    "# print(np.mean(x_train, axis=0))\n",
    "# print(np.std(x_train, axis=0))"
   ]
  },
  {
   "cell_type": "code",
   "execution_count": 14,
   "metadata": {},
   "outputs": [],
   "source": [
    "# y_mean = np.mean(y_train)\n",
    "# y_std = np.std(y_train)\n",
    "\n",
    "# y_train = (y_train - y_mean)/y_std"
   ]
  },
  {
   "cell_type": "code",
   "execution_count": 15,
   "metadata": {
    "scrolled": true
   },
   "outputs": [],
   "source": [
    "# Check that the label vector has now mean zero and variance one\n",
    "\n",
    "# print(np.mean(y_train))\n",
    "# print(np.std(y_train))"
   ]
  },
  {
   "cell_type": "markdown",
   "metadata": {},
   "source": [
    "#### Empirical error function"
   ]
  },
  {
   "cell_type": "markdown",
   "metadata": {},
   "source": [
    "Before starting, let's implement a function that will allow us to compute the error according our definition of empirical error. Remember that we want to have mean squared loss. In other words, we want to evaluate the error between the real label vector $y$ and the predicted label vector $y'$ using the (squared) L^2 norm:\n",
    "\n",
    "$$ L(y,y') = \\frac{1}{n} \\sum_{i=1}^n (y_i - {y'}_i)^2. $$\n",
    "\n",
    "This function will be used to compute both the training and test error."
   ]
  },
  {
   "cell_type": "code",
   "execution_count": 16,
   "metadata": {},
   "outputs": [],
   "source": [
    "def my_error(y_true, y_pred):\n",
    "    return (1/len(y_true))*sum((y_true - y_pred)**2)"
   ]
  },
  {
   "cell_type": "markdown",
   "metadata": {},
   "source": [
    "### (Batch) Gradient descent"
   ]
  },
  {
   "cell_type": "markdown",
   "metadata": {},
   "source": [
    "Remember that our strategy is to find the vector of coefficients, $\\beta$, that minimizes the empirical error on our dataset:\n",
    "\n",
    "$$\\operatorname{argmin}\\{ \\frac{1}{n} \\sum_{i=1}^n (y_i − \\langleβ,x_i\\rangle)^2 \\;\\vert\\; β∈ℝ^d\\} = \\operatorname{argmin}\\frac{1}{n} \\|Xβ−y\\|_2^2$$\n",
    "\n",
    "The function $β \\mapsto \\frac{1}{n} \\|Xβ−y\\|_2^2$ is convex and we may want to apply a standard gradient descent method to find its minimum. \n",
    "\n",
    "The gradient is given by\n",
    "$$\\nabla_β \\frac{1}{n} \\|Xβ−y\\|_2^2 = \\frac{2}{n}(X^t X β − X^t y).$$\n",
    "\n",
    "Fix some step length/learning rate $α∈ℝ_+$ and a starting estimate for $\\beta$ (we can take, for example, the origin). Then, we update our estimate by \"moving towards the minimum\":\n",
    "\n",
    "$$ β_{new} = β_{old} − \\frac{2α}{n}(X^t X β − X^t y)$$\n",
    "\n",
    "until the algorithm converges.\n",
    "\n",
    "What is the role of $α$? \n",
    "\n",
    "In theory, the smaller $\\alpha$ is, the smaller each step is, which means that you will be able to identify your point of minimum very precisely, but your algorithm will require a lot of time for convergence.\n",
    "\n",
    "The bigger $\\alpha$ is, the faster you can move towards the minimum, but you will identify it with less precision.\n",
    "\n",
    "In practice a variety of recipes can be used for choosing a \"good\" alpha. Ideally we would like $\\alpha$ to start big (so we can zoom fast towards the minimum) and then become smaller (so we can identify the point of minimum with more precision). In other words, one can choose $α$ depending on the iteration step. \n",
    "\n",
    "A typical choice (so called Gauss-Newton algorithm) is: \n",
    "\n",
    "$$α = \\frac{(\\nabla_β \\frac{1}{n} \\|Xβ−y\\|_2^2)^t (\\nabla_β \\frac{1}{n} \\|Xβ−y\\|_2^2)}{(\\nabla_β \\frac{1}{n} \\|Xβ−y\\|_2^2)^t x^t x (\\nabla_β \\frac{1}{n} \\|Xβ−y\\|_2^2)}$$ \n",
    "\n",
    "Another approach is to fix an arbitrary $\\alpha$ from the beginning and treat it as a model parameter (called hyperparameter). Of course, this particular choice of $\\alpha$ will impact the efficiency of the minimization and in the course of our class we will study techniques (cross-validation for hyperparameter selection) that will allow us to learn how to select a good value for $\\alpha$, specifically suited for the problem we want to solve."
   ]
  },
  {
   "cell_type": "markdown",
   "metadata": {},
   "source": [
    "Below is an implementation:"
   ]
  },
  {
   "cell_type": "code",
   "execution_count": 17,
   "metadata": {},
   "outputs": [
    {
     "name": "stdout",
     "output_type": "stream",
     "text": [
      "Iterations: 0\n"
     ]
    }
   ],
   "source": [
    "def linear_regression_gradient_train(x, y, alpha=None):\n",
    "    \n",
    "    n, d = x.shape\n",
    "    result = np.zeros((d, 1))\n",
    "    cost_new = my_error(y, x.dot(result))\n",
    "    cost_old = 0\n",
    "    i = 0\n",
    "    while np.abs(cost_new - cost_old) > 10 ** (-6):\n",
    "        print(i)\n",
    "        print(cost_new)\n",
    "        gradient = (np.transpose(x)).dot(x.dot(result) - y)\n",
    "        alpha = (np.transpose(gradient).dot(gradient)) / (\n",
    "            (np.transpose(gradient).dot(np.transpose(x))).dot(x.dot(gradient)))\n",
    "        result -= (2 * alpha / n) * gradient\n",
    "        cost_new, cost_old = my_error(y, x.dot(result)), cost_new\n",
    "        i += 1\n",
    "    print(\"Iterations: {}\".format(i))\n",
    "    return result\n",
    "\n",
    "beta_gradient = linear_regression_gradient_train(x_train, y_train)"
   ]
  },
  {
   "cell_type": "markdown",
   "metadata": {},
   "source": [
    "### The normal equation"
   ]
  },
  {
   "cell_type": "markdown",
   "metadata": {},
   "source": [
    "Actually, we don't have to use any numerical optimization method for linear regression, because we can find a closed form solution for our minimization problem:\n",
    "\n",
    "$$\\operatorname{argmin}_β \\frac{1}{n} \\|Xβ−y\\|_2^2 = \\frac{1}{n}(β^t X^t X β − 2β^t X^t y + y^t y)$$\n",
    "\n",
    "The gradient is given by\n",
    "\n",
    "$$\\nabla_β \\frac{1}{n} \\|Xβ−y\\|_2^2 = \\frac{2}{n}(X^t X β − X^t y).$$\n",
    "\n",
    "This immediately yields\n",
    "\n",
    "$$β = (X^t X)^{−1} X^t y.$$\n",
    "\n",
    "In general, $X^t X$ must not be invertible. This is particularly the case if the number of features is high compared to the sample size. In such a case the equation for $β$ admits several solutions. One of them can be found by replacing the inverse matrix by a generalized inverse/pseudoinverse $X^+$. This leads to the solution\n",
    "$$β = X^+ y.$$"
   ]
  },
  {
   "cell_type": "code",
   "execution_count": 18,
   "metadata": {},
   "outputs": [
    {
     "ename": "LinAlgError",
     "evalue": "SVD did not converge",
     "output_type": "error",
     "traceback": [
      "\u001b[0;31m---------------------------------------------------------------------------\u001b[0m",
      "\u001b[0;31mLinAlgError\u001b[0m                               Traceback (most recent call last)",
      "\u001b[0;32m<ipython-input-18-efc1d35056ab>\u001b[0m in \u001b[0;36m<module>\u001b[0;34m\u001b[0m\n\u001b[1;32m      3\u001b[0m     \u001b[0;32mreturn\u001b[0m \u001b[0mresult\u001b[0m\u001b[0;34m\u001b[0m\u001b[0;34m\u001b[0m\u001b[0m\n\u001b[1;32m      4\u001b[0m \u001b[0;34m\u001b[0m\u001b[0m\n\u001b[0;32m----> 5\u001b[0;31m \u001b[0mbeta_normal\u001b[0m \u001b[0;34m=\u001b[0m \u001b[0mlinear_regression_normal_train\u001b[0m\u001b[0;34m(\u001b[0m\u001b[0mx_train\u001b[0m\u001b[0;34m,\u001b[0m \u001b[0my_train\u001b[0m\u001b[0;34m)\u001b[0m\u001b[0;34m\u001b[0m\u001b[0;34m\u001b[0m\u001b[0m\n\u001b[0m",
      "\u001b[0;32m<ipython-input-18-efc1d35056ab>\u001b[0m in \u001b[0;36mlinear_regression_normal_train\u001b[0;34m(x, y)\u001b[0m\n\u001b[1;32m      1\u001b[0m \u001b[0;32mdef\u001b[0m \u001b[0mlinear_regression_normal_train\u001b[0m\u001b[0;34m(\u001b[0m\u001b[0mx\u001b[0m\u001b[0;34m,\u001b[0m \u001b[0my\u001b[0m\u001b[0;34m)\u001b[0m\u001b[0;34m:\u001b[0m\u001b[0;34m\u001b[0m\u001b[0;34m\u001b[0m\u001b[0m\n\u001b[0;32m----> 2\u001b[0;31m     \u001b[0mresult\u001b[0m \u001b[0;34m=\u001b[0m \u001b[0mnp\u001b[0m\u001b[0;34m.\u001b[0m\u001b[0mlinalg\u001b[0m\u001b[0;34m.\u001b[0m\u001b[0mpinv\u001b[0m\u001b[0;34m(\u001b[0m\u001b[0mx\u001b[0m\u001b[0;34m)\u001b[0m\u001b[0;34m.\u001b[0m\u001b[0mdot\u001b[0m\u001b[0;34m(\u001b[0m\u001b[0my\u001b[0m\u001b[0;34m)\u001b[0m\u001b[0;34m\u001b[0m\u001b[0;34m\u001b[0m\u001b[0m\n\u001b[0m\u001b[1;32m      3\u001b[0m     \u001b[0;32mreturn\u001b[0m \u001b[0mresult\u001b[0m\u001b[0;34m\u001b[0m\u001b[0;34m\u001b[0m\u001b[0m\n\u001b[1;32m      4\u001b[0m \u001b[0;34m\u001b[0m\u001b[0m\n\u001b[1;32m      5\u001b[0m \u001b[0mbeta_normal\u001b[0m \u001b[0;34m=\u001b[0m \u001b[0mlinear_regression_normal_train\u001b[0m\u001b[0;34m(\u001b[0m\u001b[0mx_train\u001b[0m\u001b[0;34m,\u001b[0m \u001b[0my_train\u001b[0m\u001b[0;34m)\u001b[0m\u001b[0;34m\u001b[0m\u001b[0;34m\u001b[0m\u001b[0m\n",
      "\u001b[0;32m//anaconda3/lib/python3.7/site-packages/numpy/linalg/linalg.py\u001b[0m in \u001b[0;36mpinv\u001b[0;34m(a, rcond)\u001b[0m\n\u001b[1;32m   1936\u001b[0m         \u001b[0;32mreturn\u001b[0m \u001b[0mwrap\u001b[0m\u001b[0;34m(\u001b[0m\u001b[0mres\u001b[0m\u001b[0;34m)\u001b[0m\u001b[0;34m\u001b[0m\u001b[0;34m\u001b[0m\u001b[0m\n\u001b[1;32m   1937\u001b[0m     \u001b[0ma\u001b[0m \u001b[0;34m=\u001b[0m \u001b[0ma\u001b[0m\u001b[0;34m.\u001b[0m\u001b[0mconjugate\u001b[0m\u001b[0;34m(\u001b[0m\u001b[0;34m)\u001b[0m\u001b[0;34m\u001b[0m\u001b[0;34m\u001b[0m\u001b[0m\n\u001b[0;32m-> 1938\u001b[0;31m     \u001b[0mu\u001b[0m\u001b[0;34m,\u001b[0m \u001b[0ms\u001b[0m\u001b[0;34m,\u001b[0m \u001b[0mvt\u001b[0m \u001b[0;34m=\u001b[0m \u001b[0msvd\u001b[0m\u001b[0;34m(\u001b[0m\u001b[0ma\u001b[0m\u001b[0;34m,\u001b[0m \u001b[0mfull_matrices\u001b[0m\u001b[0;34m=\u001b[0m\u001b[0;32mFalse\u001b[0m\u001b[0;34m)\u001b[0m\u001b[0;34m\u001b[0m\u001b[0;34m\u001b[0m\u001b[0m\n\u001b[0m\u001b[1;32m   1939\u001b[0m \u001b[0;34m\u001b[0m\u001b[0m\n\u001b[1;32m   1940\u001b[0m     \u001b[0;31m# discard small singular values\u001b[0m\u001b[0;34m\u001b[0m\u001b[0;34m\u001b[0m\u001b[0;34m\u001b[0m\u001b[0m\n",
      "\u001b[0;32m//anaconda3/lib/python3.7/site-packages/numpy/linalg/linalg.py\u001b[0m in \u001b[0;36msvd\u001b[0;34m(a, full_matrices, compute_uv)\u001b[0m\n\u001b[1;32m   1610\u001b[0m \u001b[0;34m\u001b[0m\u001b[0m\n\u001b[1;32m   1611\u001b[0m         \u001b[0msignature\u001b[0m \u001b[0;34m=\u001b[0m \u001b[0;34m'D->DdD'\u001b[0m \u001b[0;32mif\u001b[0m \u001b[0misComplexType\u001b[0m\u001b[0;34m(\u001b[0m\u001b[0mt\u001b[0m\u001b[0;34m)\u001b[0m \u001b[0;32melse\u001b[0m \u001b[0;34m'd->ddd'\u001b[0m\u001b[0;34m\u001b[0m\u001b[0;34m\u001b[0m\u001b[0m\n\u001b[0;32m-> 1612\u001b[0;31m         \u001b[0mu\u001b[0m\u001b[0;34m,\u001b[0m \u001b[0ms\u001b[0m\u001b[0;34m,\u001b[0m \u001b[0mvh\u001b[0m \u001b[0;34m=\u001b[0m \u001b[0mgufunc\u001b[0m\u001b[0;34m(\u001b[0m\u001b[0ma\u001b[0m\u001b[0;34m,\u001b[0m \u001b[0msignature\u001b[0m\u001b[0;34m=\u001b[0m\u001b[0msignature\u001b[0m\u001b[0;34m,\u001b[0m \u001b[0mextobj\u001b[0m\u001b[0;34m=\u001b[0m\u001b[0mextobj\u001b[0m\u001b[0;34m)\u001b[0m\u001b[0;34m\u001b[0m\u001b[0;34m\u001b[0m\u001b[0m\n\u001b[0m\u001b[1;32m   1613\u001b[0m         \u001b[0mu\u001b[0m \u001b[0;34m=\u001b[0m \u001b[0mu\u001b[0m\u001b[0;34m.\u001b[0m\u001b[0mastype\u001b[0m\u001b[0;34m(\u001b[0m\u001b[0mresult_t\u001b[0m\u001b[0;34m,\u001b[0m \u001b[0mcopy\u001b[0m\u001b[0;34m=\u001b[0m\u001b[0;32mFalse\u001b[0m\u001b[0;34m)\u001b[0m\u001b[0;34m\u001b[0m\u001b[0;34m\u001b[0m\u001b[0m\n\u001b[1;32m   1614\u001b[0m         \u001b[0ms\u001b[0m \u001b[0;34m=\u001b[0m \u001b[0ms\u001b[0m\u001b[0;34m.\u001b[0m\u001b[0mastype\u001b[0m\u001b[0;34m(\u001b[0m\u001b[0m_realType\u001b[0m\u001b[0;34m(\u001b[0m\u001b[0mresult_t\u001b[0m\u001b[0;34m)\u001b[0m\u001b[0;34m,\u001b[0m \u001b[0mcopy\u001b[0m\u001b[0;34m=\u001b[0m\u001b[0;32mFalse\u001b[0m\u001b[0;34m)\u001b[0m\u001b[0;34m\u001b[0m\u001b[0;34m\u001b[0m\u001b[0m\n",
      "\u001b[0;32m//anaconda3/lib/python3.7/site-packages/numpy/linalg/linalg.py\u001b[0m in \u001b[0;36m_raise_linalgerror_svd_nonconvergence\u001b[0;34m(err, flag)\u001b[0m\n\u001b[1;32m    104\u001b[0m \u001b[0;34m\u001b[0m\u001b[0m\n\u001b[1;32m    105\u001b[0m \u001b[0;32mdef\u001b[0m \u001b[0m_raise_linalgerror_svd_nonconvergence\u001b[0m\u001b[0;34m(\u001b[0m\u001b[0merr\u001b[0m\u001b[0;34m,\u001b[0m \u001b[0mflag\u001b[0m\u001b[0;34m)\u001b[0m\u001b[0;34m:\u001b[0m\u001b[0;34m\u001b[0m\u001b[0;34m\u001b[0m\u001b[0m\n\u001b[0;32m--> 106\u001b[0;31m     \u001b[0;32mraise\u001b[0m \u001b[0mLinAlgError\u001b[0m\u001b[0;34m(\u001b[0m\u001b[0;34m\"SVD did not converge\"\u001b[0m\u001b[0;34m)\u001b[0m\u001b[0;34m\u001b[0m\u001b[0;34m\u001b[0m\u001b[0m\n\u001b[0m\u001b[1;32m    107\u001b[0m \u001b[0;34m\u001b[0m\u001b[0m\n\u001b[1;32m    108\u001b[0m \u001b[0;32mdef\u001b[0m \u001b[0m_raise_linalgerror_lstsq\u001b[0m\u001b[0;34m(\u001b[0m\u001b[0merr\u001b[0m\u001b[0;34m,\u001b[0m \u001b[0mflag\u001b[0m\u001b[0;34m)\u001b[0m\u001b[0;34m:\u001b[0m\u001b[0;34m\u001b[0m\u001b[0;34m\u001b[0m\u001b[0m\n",
      "\u001b[0;31mLinAlgError\u001b[0m: SVD did not converge"
     ]
    }
   ],
   "source": [
    "def linear_regression_normal_train(x, y):\n",
    "    result = np.linalg.pinv(x).dot(y)\n",
    "    return result\n",
    "\n",
    "beta_normal = linear_regression_normal_train(x_train, y_train)"
   ]
  },
  {
   "cell_type": "markdown",
   "metadata": {},
   "source": [
    "## Linear regression: scikit-learn"
   ]
  },
  {
   "cell_type": "markdown",
   "metadata": {},
   "source": [
    "We can implement the linear regression by using the package scikit-learn:"
   ]
  },
  {
   "cell_type": "code",
   "execution_count": null,
   "metadata": {},
   "outputs": [],
   "source": [
    "lr = linear_model.LinearRegression(fit_intercept=False, normalize=False).fit(x_train, y_train)\n",
    "\n",
    "beta_sklearn = np.transpose(lr.coef_)"
   ]
  },
  {
   "cell_type": "markdown",
   "metadata": {},
   "source": [
    "Some comments:\n",
    "* scikit-learn treats machine learning algorithms as classes. For example, .fit is a method of the class LinearRegression.\n",
    "* All derived information are stored in variables with a trailing underscore by scikit-learn."
   ]
  },
  {
   "cell_type": "markdown",
   "metadata": {},
   "source": [
    "## Testing"
   ]
  },
  {
   "cell_type": "markdown",
   "metadata": {},
   "source": [
    "Let's see how our different algorithms perform!\n",
    "\n",
    "First of all, we need to write a function that from a vector of inputs and a vector of estimated coefficients, $\\beta$, can return a vector of predictions:"
   ]
  },
  {
   "cell_type": "code",
   "execution_count": null,
   "metadata": {},
   "outputs": [],
   "source": [
    "def linear_regression_predict(x, beta):\n",
    "    result = x.dot(beta)\n",
    "    return result"
   ]
  },
  {
   "cell_type": "code",
   "execution_count": null,
   "metadata": {},
   "outputs": [],
   "source": [
    "print(\"----------Gradient----------\")\n",
    "print(beta_gradient)\n",
    "print(\"----------Normal----------\")\n",
    "print(beta_normal)\n",
    "print(\"----------Sklearn----------\")\n",
    "print(beta_sklearn)"
   ]
  },
  {
   "cell_type": "code",
   "execution_count": null,
   "metadata": {
    "scrolled": true
   },
   "outputs": [],
   "source": [
    "print(\"----------Gradient----------\")\n",
    "print(\"Training error: \", my_error(y_train, linear_regression_predict(x_train, beta_gradient)))\n",
    "print(\"Test error: \", my_error(y_test, linear_regression_predict(x_test, beta_gradient)))\n",
    "\n",
    "print(\"----------Normal----------\")\n",
    "print(\"Training error: \", my_error(y_train, linear_regression_predict(x_train, beta_normal)))\n",
    "print(\"Test error: \", my_error(y_test, linear_regression_predict(x_test, beta_normal)))\n",
    "\n",
    "print(\"----------Sklearn----------\")\n",
    "print(\"Training error: \", my_error(y_train, linear_regression_predict(x_train, beta_sklearn)))\n",
    "print(\"Test error: \", my_error(y_test, linear_regression_predict(x_test, beta_sklearn)))"
   ]
  },
  {
   "cell_type": "code",
   "execution_count": null,
   "metadata": {},
   "outputs": [],
   "source": [
    "plt.plot(y_test - linear_regression_predict(x_test, beta_sklearn), 'ro')\n",
    "plt.show()"
   ]
  },
  {
   "cell_type": "code",
   "execution_count": null,
   "metadata": {},
   "outputs": [],
   "source": [
    "plt.plot(y_test - linear_regression_predict(x_test, beta_gradient), 'ro',\n",
    "        y_test - linear_regression_predict(x_test, beta_normal), 'bo',)\n",
    "plt.show()"
   ]
  },
  {
   "cell_type": "markdown",
   "metadata": {},
   "source": [
    "## Discussion"
   ]
  },
  {
   "cell_type": "markdown",
   "metadata": {},
   "source": [
    "Is this learning?\n",
    "* No iterative learning steps in normal equation does not mean that the algorithm is not learning.\n",
    "* Linear regression profits a lot from its easy form. This makes the algorithm explainable.\n",
    "\n",
    "Normal equation vs gradient descent\n",
    "* Calculating inverse matrix is difficult for many features. Updating rule stays easy.\n",
    "* Learning rate has to be chosen well for gradient descent to work. So the learning algorithm gets more difficult. --> See also Class 4\n",
    "\n",
    "Theoretical bounds\n",
    "* Consider a data set $(x^{(i)},y_i)_{i=1,…,n}$ following the model $y = x^t β + ε$ for i.i.d. noise $ε$ with mean 0 and variance $σ^2$.\n",
    "* The training error satisfies $\\mathbb{E}[R(β)] = σ^2 (1−\\frac{d+1}{n_{test}})$.\n",
    "* The test error satisfies $\\mathbb{E}[R(β)] = σ^2 (1+\\frac{d+1}{n_{train}})$.\n",
    "* This shows that the model is indeed learning some information from the noise as well.\n"
   ]
  },
  {
   "cell_type": "markdown",
   "metadata": {},
   "source": [
    "## Practice yourself!"
   ]
  },
  {
   "cell_type": "markdown",
   "metadata": {},
   "source": [
    "Play around with the code yourself! Possible ideas that might lead you to interesting observations are:\n",
    "1. Try your algorithms on the new dataset diabetes from scikit-learn.\n",
    "2. Implement the normalization. How do the results of your algorithms change?\n",
    "3. Implement the algorithm for the absolute value loss function. Compare the estimator for the absolute value loss function with the one for the squared error.\n",
    "4. Try your algorithm on a data set you generated yourself: Fix some $β∈ℝ^d$ with possibly some parameters being (close to) zero. Generate some samples via $y = \\sum_{i=1}^d β_i x^{(i)} + ε$ with some i.i.d. noise $ε$.\n",
    "5. Plot the training error and the test error for your model trained on smaller datasets of size $m\\le n$ for different $m$. As $m$ increases, what can you see?"
   ]
  }
 ],
 "metadata": {
  "kernelspec": {
   "display_name": "Python 3",
   "language": "python",
   "name": "python3"
  },
  "language_info": {
   "codemirror_mode": {
    "name": "ipython",
    "version": 3
   },
   "file_extension": ".py",
   "mimetype": "text/x-python",
   "name": "python",
   "nbconvert_exporter": "python",
   "pygments_lexer": "ipython3",
   "version": "3.7.3"
  }
 },
 "nbformat": 4,
 "nbformat_minor": 2
}
